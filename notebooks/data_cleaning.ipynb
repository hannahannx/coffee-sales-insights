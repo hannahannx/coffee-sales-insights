{
 "cells": [
  {
   "metadata": {},
   "cell_type": "markdown",
   "source": "# Data Cleaning and Transformation",
   "id": "e22e1a80e8b9154d"
  },
  {
   "metadata": {},
   "cell_type": "markdown",
   "source": "## Load and Present Data",
   "id": "559bd03abf094ebe"
  },
  {
   "metadata": {
    "collapsed": true,
    "ExecuteTime": {
     "end_time": "2025-10-13T11:03:39.799205Z",
     "start_time": "2025-10-13T11:03:39.784482Z"
    }
   },
   "cell_type": "code",
   "source": [
    "import pandas as pd\n",
    "\n",
    "#reading the csv files\n",
    "coffee_sales = pd.read_csv(\"../data/raw/coffee_sales.csv\")\n",
    "print(coffee_sales.count(\"rows\"))\n",
    "coffee_sales.nunique()"
   ],
   "id": "initial_id",
   "outputs": [
    {
     "name": "stdout",
     "output_type": "stream",
     "text": [
      "date           262\n",
      "datetime       262\n",
      "cash_type      262\n",
      "money          262\n",
      "coffee_name    262\n",
      "dtype: int64\n"
     ]
    },
    {
     "data": {
      "text/plain": [
       "date            41\n",
       "datetime       254\n",
       "cash_type        2\n",
       "money           10\n",
       "coffee_name     30\n",
       "dtype: int64"
      ]
     },
     "execution_count": 44,
     "metadata": {},
     "output_type": "execute_result"
    }
   ],
   "execution_count": 44
  },
  {
   "metadata": {
    "ExecuteTime": {
     "end_time": "2025-10-13T11:03:39.857097Z",
     "start_time": "2025-10-13T11:03:39.845474Z"
    }
   },
   "cell_type": "code",
   "source": [
    "coffee_sales['date'] = pd.to_datetime(coffee_sales['date'])\n",
    "coffee_sales"
   ],
   "id": "19d049240db978d5",
   "outputs": [
    {
     "data": {
      "text/plain": [
       "          date             datetime cash_type  money  \\\n",
       "0   2025-02-08  2025-02-08 14:26:04      cash   15.0   \n",
       "1   2025-02-08  2025-02-08 14:28:26      cash   15.0   \n",
       "2   2025-02-08  2025-02-08 14:33:04      card   20.0   \n",
       "3   2025-02-08  2025-02-08 15:51:04      card   30.0   \n",
       "4   2025-02-08  2025-02-08 16:35:01      cash   27.0   \n",
       "..         ...                  ...       ...    ...   \n",
       "257 2025-03-23  2025-03-23 14:55:46      cash   30.0   \n",
       "258 2025-03-23  2025-03-23 15:15:36      card   25.0   \n",
       "259 2025-03-23  2025-03-23 17:59:25      card   28.0   \n",
       "260 2025-03-23  2025-03-23 18:01:33      card   28.0   \n",
       "261 2025-03-23  2025-03-23 21:23:11      card   29.0   \n",
       "\n",
       "                    coffee_name  \n",
       "0                           Tea  \n",
       "1                           Tea  \n",
       "2                      Espresso  \n",
       "3         Chocolate with coffee  \n",
       "4           Chocolate with milk  \n",
       "..                          ...  \n",
       "257                  Cappuccino  \n",
       "258               Irish whiskey  \n",
       "259             Super chocolate  \n",
       "260  Vanilla with Irish whiskey  \n",
       "261   Coffee with Irish whiskey  \n",
       "\n",
       "[262 rows x 5 columns]"
      ],
      "text/html": [
       "<div>\n",
       "<style scoped>\n",
       "    .dataframe tbody tr th:only-of-type {\n",
       "        vertical-align: middle;\n",
       "    }\n",
       "\n",
       "    .dataframe tbody tr th {\n",
       "        vertical-align: top;\n",
       "    }\n",
       "\n",
       "    .dataframe thead th {\n",
       "        text-align: right;\n",
       "    }\n",
       "</style>\n",
       "<table border=\"1\" class=\"dataframe\">\n",
       "  <thead>\n",
       "    <tr style=\"text-align: right;\">\n",
       "      <th></th>\n",
       "      <th>date</th>\n",
       "      <th>datetime</th>\n",
       "      <th>cash_type</th>\n",
       "      <th>money</th>\n",
       "      <th>coffee_name</th>\n",
       "    </tr>\n",
       "  </thead>\n",
       "  <tbody>\n",
       "    <tr>\n",
       "      <th>0</th>\n",
       "      <td>2025-02-08</td>\n",
       "      <td>2025-02-08 14:26:04</td>\n",
       "      <td>cash</td>\n",
       "      <td>15.0</td>\n",
       "      <td>Tea</td>\n",
       "    </tr>\n",
       "    <tr>\n",
       "      <th>1</th>\n",
       "      <td>2025-02-08</td>\n",
       "      <td>2025-02-08 14:28:26</td>\n",
       "      <td>cash</td>\n",
       "      <td>15.0</td>\n",
       "      <td>Tea</td>\n",
       "    </tr>\n",
       "    <tr>\n",
       "      <th>2</th>\n",
       "      <td>2025-02-08</td>\n",
       "      <td>2025-02-08 14:33:04</td>\n",
       "      <td>card</td>\n",
       "      <td>20.0</td>\n",
       "      <td>Espresso</td>\n",
       "    </tr>\n",
       "    <tr>\n",
       "      <th>3</th>\n",
       "      <td>2025-02-08</td>\n",
       "      <td>2025-02-08 15:51:04</td>\n",
       "      <td>card</td>\n",
       "      <td>30.0</td>\n",
       "      <td>Chocolate with coffee</td>\n",
       "    </tr>\n",
       "    <tr>\n",
       "      <th>4</th>\n",
       "      <td>2025-02-08</td>\n",
       "      <td>2025-02-08 16:35:01</td>\n",
       "      <td>cash</td>\n",
       "      <td>27.0</td>\n",
       "      <td>Chocolate with milk</td>\n",
       "    </tr>\n",
       "    <tr>\n",
       "      <th>...</th>\n",
       "      <td>...</td>\n",
       "      <td>...</td>\n",
       "      <td>...</td>\n",
       "      <td>...</td>\n",
       "      <td>...</td>\n",
       "    </tr>\n",
       "    <tr>\n",
       "      <th>257</th>\n",
       "      <td>2025-03-23</td>\n",
       "      <td>2025-03-23 14:55:46</td>\n",
       "      <td>cash</td>\n",
       "      <td>30.0</td>\n",
       "      <td>Cappuccino</td>\n",
       "    </tr>\n",
       "    <tr>\n",
       "      <th>258</th>\n",
       "      <td>2025-03-23</td>\n",
       "      <td>2025-03-23 15:15:36</td>\n",
       "      <td>card</td>\n",
       "      <td>25.0</td>\n",
       "      <td>Irish whiskey</td>\n",
       "    </tr>\n",
       "    <tr>\n",
       "      <th>259</th>\n",
       "      <td>2025-03-23</td>\n",
       "      <td>2025-03-23 17:59:25</td>\n",
       "      <td>card</td>\n",
       "      <td>28.0</td>\n",
       "      <td>Super chocolate</td>\n",
       "    </tr>\n",
       "    <tr>\n",
       "      <th>260</th>\n",
       "      <td>2025-03-23</td>\n",
       "      <td>2025-03-23 18:01:33</td>\n",
       "      <td>card</td>\n",
       "      <td>28.0</td>\n",
       "      <td>Vanilla with Irish whiskey</td>\n",
       "    </tr>\n",
       "    <tr>\n",
       "      <th>261</th>\n",
       "      <td>2025-03-23</td>\n",
       "      <td>2025-03-23 21:23:11</td>\n",
       "      <td>card</td>\n",
       "      <td>29.0</td>\n",
       "      <td>Coffee with Irish whiskey</td>\n",
       "    </tr>\n",
       "  </tbody>\n",
       "</table>\n",
       "<p>262 rows × 5 columns</p>\n",
       "</div>"
      ]
     },
     "execution_count": 45,
     "metadata": {},
     "output_type": "execute_result"
    }
   ],
   "execution_count": 45
  },
  {
   "metadata": {},
   "cell_type": "markdown",
   "source": "## Renaming rows",
   "id": "becc52c2991737a8"
  },
  {
   "metadata": {
    "ExecuteTime": {
     "end_time": "2025-10-13T11:03:39.971766Z",
     "start_time": "2025-10-13T11:03:39.955246Z"
    }
   },
   "cell_type": "code",
   "source": [
    "coffee_sales.rename(columns= {\"date\": \"Date\",\"datetime\":\"Transaction Date\",\"cash_type\": \"Transaction Type\", \"money\": \"Price\", \"coffee_name\": \"Coffee Order\"}, inplace= True)\n",
    "coffee_sales"
   ],
   "id": "3ad2b8b1c9d4bc94",
   "outputs": [
    {
     "data": {
      "text/plain": [
       "          Date     Transaction Date Transaction Type  Price  \\\n",
       "0   2025-02-08  2025-02-08 14:26:04             cash   15.0   \n",
       "1   2025-02-08  2025-02-08 14:28:26             cash   15.0   \n",
       "2   2025-02-08  2025-02-08 14:33:04             card   20.0   \n",
       "3   2025-02-08  2025-02-08 15:51:04             card   30.0   \n",
       "4   2025-02-08  2025-02-08 16:35:01             cash   27.0   \n",
       "..         ...                  ...              ...    ...   \n",
       "257 2025-03-23  2025-03-23 14:55:46             cash   30.0   \n",
       "258 2025-03-23  2025-03-23 15:15:36             card   25.0   \n",
       "259 2025-03-23  2025-03-23 17:59:25             card   28.0   \n",
       "260 2025-03-23  2025-03-23 18:01:33             card   28.0   \n",
       "261 2025-03-23  2025-03-23 21:23:11             card   29.0   \n",
       "\n",
       "                   Coffee Order  \n",
       "0                           Tea  \n",
       "1                           Tea  \n",
       "2                      Espresso  \n",
       "3         Chocolate with coffee  \n",
       "4           Chocolate with milk  \n",
       "..                          ...  \n",
       "257                  Cappuccino  \n",
       "258               Irish whiskey  \n",
       "259             Super chocolate  \n",
       "260  Vanilla with Irish whiskey  \n",
       "261   Coffee with Irish whiskey  \n",
       "\n",
       "[262 rows x 5 columns]"
      ],
      "text/html": [
       "<div>\n",
       "<style scoped>\n",
       "    .dataframe tbody tr th:only-of-type {\n",
       "        vertical-align: middle;\n",
       "    }\n",
       "\n",
       "    .dataframe tbody tr th {\n",
       "        vertical-align: top;\n",
       "    }\n",
       "\n",
       "    .dataframe thead th {\n",
       "        text-align: right;\n",
       "    }\n",
       "</style>\n",
       "<table border=\"1\" class=\"dataframe\">\n",
       "  <thead>\n",
       "    <tr style=\"text-align: right;\">\n",
       "      <th></th>\n",
       "      <th>Date</th>\n",
       "      <th>Transaction Date</th>\n",
       "      <th>Transaction Type</th>\n",
       "      <th>Price</th>\n",
       "      <th>Coffee Order</th>\n",
       "    </tr>\n",
       "  </thead>\n",
       "  <tbody>\n",
       "    <tr>\n",
       "      <th>0</th>\n",
       "      <td>2025-02-08</td>\n",
       "      <td>2025-02-08 14:26:04</td>\n",
       "      <td>cash</td>\n",
       "      <td>15.0</td>\n",
       "      <td>Tea</td>\n",
       "    </tr>\n",
       "    <tr>\n",
       "      <th>1</th>\n",
       "      <td>2025-02-08</td>\n",
       "      <td>2025-02-08 14:28:26</td>\n",
       "      <td>cash</td>\n",
       "      <td>15.0</td>\n",
       "      <td>Tea</td>\n",
       "    </tr>\n",
       "    <tr>\n",
       "      <th>2</th>\n",
       "      <td>2025-02-08</td>\n",
       "      <td>2025-02-08 14:33:04</td>\n",
       "      <td>card</td>\n",
       "      <td>20.0</td>\n",
       "      <td>Espresso</td>\n",
       "    </tr>\n",
       "    <tr>\n",
       "      <th>3</th>\n",
       "      <td>2025-02-08</td>\n",
       "      <td>2025-02-08 15:51:04</td>\n",
       "      <td>card</td>\n",
       "      <td>30.0</td>\n",
       "      <td>Chocolate with coffee</td>\n",
       "    </tr>\n",
       "    <tr>\n",
       "      <th>4</th>\n",
       "      <td>2025-02-08</td>\n",
       "      <td>2025-02-08 16:35:01</td>\n",
       "      <td>cash</td>\n",
       "      <td>27.0</td>\n",
       "      <td>Chocolate with milk</td>\n",
       "    </tr>\n",
       "    <tr>\n",
       "      <th>...</th>\n",
       "      <td>...</td>\n",
       "      <td>...</td>\n",
       "      <td>...</td>\n",
       "      <td>...</td>\n",
       "      <td>...</td>\n",
       "    </tr>\n",
       "    <tr>\n",
       "      <th>257</th>\n",
       "      <td>2025-03-23</td>\n",
       "      <td>2025-03-23 14:55:46</td>\n",
       "      <td>cash</td>\n",
       "      <td>30.0</td>\n",
       "      <td>Cappuccino</td>\n",
       "    </tr>\n",
       "    <tr>\n",
       "      <th>258</th>\n",
       "      <td>2025-03-23</td>\n",
       "      <td>2025-03-23 15:15:36</td>\n",
       "      <td>card</td>\n",
       "      <td>25.0</td>\n",
       "      <td>Irish whiskey</td>\n",
       "    </tr>\n",
       "    <tr>\n",
       "      <th>259</th>\n",
       "      <td>2025-03-23</td>\n",
       "      <td>2025-03-23 17:59:25</td>\n",
       "      <td>card</td>\n",
       "      <td>28.0</td>\n",
       "      <td>Super chocolate</td>\n",
       "    </tr>\n",
       "    <tr>\n",
       "      <th>260</th>\n",
       "      <td>2025-03-23</td>\n",
       "      <td>2025-03-23 18:01:33</td>\n",
       "      <td>card</td>\n",
       "      <td>28.0</td>\n",
       "      <td>Vanilla with Irish whiskey</td>\n",
       "    </tr>\n",
       "    <tr>\n",
       "      <th>261</th>\n",
       "      <td>2025-03-23</td>\n",
       "      <td>2025-03-23 21:23:11</td>\n",
       "      <td>card</td>\n",
       "      <td>29.0</td>\n",
       "      <td>Coffee with Irish whiskey</td>\n",
       "    </tr>\n",
       "  </tbody>\n",
       "</table>\n",
       "<p>262 rows × 5 columns</p>\n",
       "</div>"
      ]
     },
     "execution_count": 46,
     "metadata": {},
     "output_type": "execute_result"
    }
   ],
   "execution_count": 46
  },
  {
   "metadata": {},
   "cell_type": "markdown",
   "source": "## Handling Missing Values",
   "id": "e5d2130170425850"
  },
  {
   "metadata": {
    "ExecuteTime": {
     "end_time": "2025-10-13T11:03:40.142465Z",
     "start_time": "2025-10-13T11:03:40.134422Z"
    }
   },
   "cell_type": "code",
   "source": "coffee_sales.isnull().sum()",
   "id": "a0ca2c5eca848a70",
   "outputs": [
    {
     "data": {
      "text/plain": [
       "Date                0\n",
       "Transaction Date    0\n",
       "Transaction Type    0\n",
       "Price               0\n",
       "Coffee Order        0\n",
       "dtype: int64"
      ]
     },
     "execution_count": 47,
     "metadata": {},
     "output_type": "execute_result"
    }
   ],
   "execution_count": 47
  },
  {
   "metadata": {},
   "cell_type": "markdown",
   "source": "## Duplicate Values",
   "id": "c4d22f0eae299491"
  },
  {
   "metadata": {
    "ExecuteTime": {
     "end_time": "2025-10-13T11:03:40.316712Z",
     "start_time": "2025-10-13T11:03:40.302325Z"
    }
   },
   "cell_type": "code",
   "source": [
    "duplicates = coffee_sales[coffee_sales.duplicated()]\n",
    "print(duplicates)\n"
   ],
   "id": "992b1c243790187d",
   "outputs": [
    {
     "name": "stdout",
     "output_type": "stream",
     "text": [
      "          Date     Transaction Date Transaction Type  Price  \\\n",
      "111 2025-02-26  2025-02-26 09:41:12             cash   25.0   \n",
      "256 2025-03-23  2025-03-23 10:25:48             cash   25.0   \n",
      "\n",
      "            Coffee Order  \n",
      "111  Americano with milk  \n",
      "256  Americano with milk  \n"
     ]
    }
   ],
   "execution_count": 48
  },
  {
   "metadata": {},
   "cell_type": "markdown",
   "source": "These values are not duplicates, they are separate transactions on different dates, but hey have the same transaction type and order.",
   "id": "32b51b229511a227"
  },
  {
   "metadata": {},
   "cell_type": "markdown",
   "source": "## Store cleaned data frame",
   "id": "fc67cf1a25a614a0"
  },
  {
   "metadata": {
    "ExecuteTime": {
     "end_time": "2025-10-13T11:03:40.546970Z",
     "start_time": "2025-10-13T11:03:40.539741Z"
    }
   },
   "cell_type": "code",
   "source": [
    "# presenting\n",
    "coffee_sales\n",
    "\n",
    "#saving\n",
    "coffee_sales.to_csv(\"../data/cleaned/cleaned_coffee-sales.csv\")"
   ],
   "id": "868bf2f88151fee5",
   "outputs": [],
   "execution_count": 49
  }
 ],
 "metadata": {
  "kernelspec": {
   "display_name": "Python 3",
   "language": "python",
   "name": "python3"
  },
  "language_info": {
   "codemirror_mode": {
    "name": "ipython",
    "version": 2
   },
   "file_extension": ".py",
   "mimetype": "text/x-python",
   "name": "python",
   "nbconvert_exporter": "python",
   "pygments_lexer": "ipython2",
   "version": "2.7.6"
  }
 },
 "nbformat": 4,
 "nbformat_minor": 5
}
